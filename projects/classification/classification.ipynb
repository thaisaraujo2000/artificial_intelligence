{
  "nbformat": 4,
  "nbformat_minor": 0,
  "metadata": {
    "colab": {
      "provenance": []
    },
    "kernelspec": {
      "name": "python3",
      "display_name": "Python 3"
    },
    "language_info": {
      "name": "python"
    }
  },
  "cells": [
    {
      "cell_type": "markdown",
      "source": [
        "### Questão 4.2"
      ],
      "metadata": {
        "id": "eb3RWiyk1uq2"
      }
    },
    {
      "cell_type": "markdown",
      "source": [
        "**a) Estime o vetor média e a matriz de covariância de cada distribuição gaussiana multivariada. Para estimativa dos vetores média e das matrizes utilize os estimadores de máxima verossimilhança dados abaixo.**"
      ],
      "metadata": {
        "id": "MqbRlF0Z2OCB"
      }
    },
    {
      "cell_type": "markdown",
      "source": [
        "#### Importando biblioteca"
      ],
      "metadata": {
        "id": "pK0vwbO24qKh"
      }
    },
    {
      "cell_type": "code",
      "execution_count": 147,
      "metadata": {
        "id": "a8ogWzq80qPK"
      },
      "outputs": [],
      "source": [
        "import numpy as np"
      ]
    },
    {
      "cell_type": "markdown",
      "source": [
        "#### Listas"
      ],
      "metadata": {
        "id": "jaPnqcsU4wBI"
      }
    },
    {
      "cell_type": "code",
      "source": [
        "# classe w1\n",
        "x1_w1 = [-5.01, -5.43, 1.08, 0.86, -2.67, 4.94, -2.51, -2.25, 5.56, 1.03]\n",
        "x2_w1 = [-8.12, -3.48, -5.52, -3.78, 0.63, 3.29, 2.09, -2.13, 2.86, -3.33]"
      ],
      "metadata": {
        "id": "vw6VRtoq4Xpd"
      },
      "execution_count": 148,
      "outputs": []
    },
    {
      "cell_type": "code",
      "source": [
        "# classe w2\n",
        "x1_w2 = [-0.91, 1.30, -7.75, -5.47, 6.14, 3.6, 5.37, 7.18, -7.39, -7.5]\n",
        "x2_w2 = [-0.18, -2.06, -4.54, 0.5, 5.72, 1.26, -4.63, 1.46, 1.17, -6.32]"
      ],
      "metadata": {
        "id": "0TtFcU1c51AW"
      },
      "execution_count": 149,
      "outputs": []
    },
    {
      "cell_type": "markdown",
      "source": [
        "#### Vetor média\n",
        "$\\mu_{w1} = \n",
        "\\begin{bmatrix}\n",
        "\\mu_{x1\\_w1}\\\\ \n",
        "\\mu_{x2\\_w1}\n",
        "\\end{bmatrix}$\n",
        "\n",
        "$\\mu_{w2} = \n",
        "\\begin{bmatrix}\n",
        "\\mu_{x1\\_w1}\\\\ \n",
        "\\mu_{_x2\\_w2}\n",
        "\\end{bmatrix}$"
      ],
      "metadata": {
        "id": "Aw6d4OGy4MMr"
      }
    },
    {
      "cell_type": "markdown",
      "source": [
        "##### Classe w1"
      ],
      "metadata": {
        "id": "JU9o9EkK7d67"
      }
    },
    {
      "cell_type": "code",
      "source": [
        "average_x1w1 = np.mean(x1_w1)\n",
        "average_x1w1"
      ],
      "metadata": {
        "colab": {
          "base_uri": "https://localhost:8080/"
        },
        "id": "EVYP6GSh6b38",
        "outputId": "711595e4-37ae-4e84-d341-26d08fbf4c74"
      },
      "execution_count": 150,
      "outputs": [
        {
          "output_type": "execute_result",
          "data": {
            "text/plain": [
              "-0.43999999999999984"
            ]
          },
          "metadata": {},
          "execution_count": 150
        }
      ]
    },
    {
      "cell_type": "code",
      "source": [
        "average_x2w1 = np.mean(x2_w1)\n",
        "average_x2w1"
      ],
      "metadata": {
        "colab": {
          "base_uri": "https://localhost:8080/"
        },
        "id": "2UbVOvRn6Sam",
        "outputId": "fe66d2f1-9ee7-44a7-814c-389a98e2d425"
      },
      "execution_count": 151,
      "outputs": [
        {
          "output_type": "execute_result",
          "data": {
            "text/plain": [
              "-1.749"
            ]
          },
          "metadata": {},
          "execution_count": 151
        }
      ]
    },
    {
      "cell_type": "code",
      "source": [
        "average_w1 = [average_x1w1, average_x2w1]\n",
        "average_w1"
      ],
      "metadata": {
        "colab": {
          "base_uri": "https://localhost:8080/"
        },
        "id": "GKAjIPfX7zBW",
        "outputId": "a53cc5ad-4123-4455-95e1-9834b70893dd"
      },
      "execution_count": 152,
      "outputs": [
        {
          "output_type": "execute_result",
          "data": {
            "text/plain": [
              "[-0.43999999999999984, -1.749]"
            ]
          },
          "metadata": {},
          "execution_count": 152
        }
      ]
    },
    {
      "cell_type": "markdown",
      "source": [
        "##### Classe w2"
      ],
      "metadata": {
        "id": "K2Say8qw7nSZ"
      }
    },
    {
      "cell_type": "code",
      "source": [
        "average_x1w2 = np.mean(x1_w2)\n",
        "average_x1w2"
      ],
      "metadata": {
        "colab": {
          "base_uri": "https://localhost:8080/"
        },
        "id": "Pm8JeVWz7XCP",
        "outputId": "e993e2fe-fb84-4502-ff11-f2765b7ccc63"
      },
      "execution_count": 153,
      "outputs": [
        {
          "output_type": "execute_result",
          "data": {
            "text/plain": [
              "-0.5429999999999999"
            ]
          },
          "metadata": {},
          "execution_count": 153
        }
      ]
    },
    {
      "cell_type": "code",
      "source": [
        "average_x2w2 = np.mean(x2_w2)\n",
        "average_x2w2"
      ],
      "metadata": {
        "colab": {
          "base_uri": "https://localhost:8080/"
        },
        "id": "lFyWYwyH7vcu",
        "outputId": "87f6d0cd-4201-47b8-a223-357d38e82f85"
      },
      "execution_count": 154,
      "outputs": [
        {
          "output_type": "execute_result",
          "data": {
            "text/plain": [
              "-0.7620000000000001"
            ]
          },
          "metadata": {},
          "execution_count": 154
        }
      ]
    },
    {
      "cell_type": "code",
      "source": [
        "average_w2 = [average_x1w2, average_x2w2]\n",
        "average_w2"
      ],
      "metadata": {
        "colab": {
          "base_uri": "https://localhost:8080/"
        },
        "id": "RO1YWNOm8KOj",
        "outputId": "4f9976de-92e1-49fa-d013-fcf7b961495c"
      },
      "execution_count": 155,
      "outputs": [
        {
          "output_type": "execute_result",
          "data": {
            "text/plain": [
              "[-0.5429999999999999, -0.7620000000000001]"
            ]
          },
          "metadata": {},
          "execution_count": 155
        }
      ]
    },
    {
      "cell_type": "markdown",
      "source": [
        "#### Matriz de covariância\n",
        "$\\sigma_{w1} = \\begin{bmatrix}\n",
        "s_{11\\_w1} & s_{12\\_w1} \\\\\n",
        "s_{21\\_w1} & s_{22\\_w1}\n",
        "\\end{bmatrix}$ \n",
        "\n",
        "$\\sigma_{w2} = \\begin{bmatrix}\n",
        "s_{11\\_w2} & s_{12\\_w2} \\\\\n",
        "s_{21\\_w2} & s_{22\\_w2}\n",
        "\\end{bmatrix}$ "
      ],
      "metadata": {
        "id": "mPXBwnzI9lDt"
      }
    },
    {
      "cell_type": "markdown",
      "source": [
        "##### Classe w1"
      ],
      "metadata": {
        "id": "taa2oLsCDF2Z"
      }
    },
    {
      "cell_type": "code",
      "source": [
        "cov_w1 = np.cov([x1_w1,x2_w1])"
      ],
      "metadata": {
        "id": "fTdyEBGxC-LK"
      },
      "execution_count": 156,
      "outputs": []
    },
    {
      "cell_type": "code",
      "source": [
        "cov_w1"
      ],
      "metadata": {
        "colab": {
          "base_uri": "https://localhost:8080/"
        },
        "id": "xQoNptogLuSz",
        "outputId": "d8318d4b-d017-4b40-84da-de3ba367efbe"
      },
      "execution_count": 157,
      "outputs": [
        {
          "output_type": "execute_result",
          "data": {
            "text/plain": [
              "array([[14.38051111,  7.69537778],\n",
              "       [ 7.69537778, 14.62312111]])"
            ]
          },
          "metadata": {},
          "execution_count": 157
        }
      ]
    },
    {
      "cell_type": "markdown",
      "source": [
        "##### Classe w2"
      ],
      "metadata": {
        "id": "3O4aFwI8MAUJ"
      }
    },
    {
      "cell_type": "code",
      "source": [
        "cov_w2 = np.cov([x1_w2,x2_w2])"
      ],
      "metadata": {
        "id": "NyuikL-xLyiN"
      },
      "execution_count": 158,
      "outputs": []
    },
    {
      "cell_type": "code",
      "source": [
        "cov_w2"
      ],
      "metadata": {
        "colab": {
          "base_uri": "https://localhost:8080/"
        },
        "id": "_dp2aqPXMGTT",
        "outputId": "22c5cacd-4797-464b-a811-2c77339e4c1c"
      },
      "execution_count": 159,
      "outputs": [
        {
          "output_type": "execute_result",
          "data": {
            "text/plain": [
              "array([[36.82933444,  9.98092667],\n",
              "       [ 9.98092667, 13.16855111]])"
            ]
          },
          "metadata": {},
          "execution_count": 159
        }
      ]
    },
    {
      "cell_type": "markdown",
      "source": [
        "**b) Determine a superfície de decisão fazendo $g_1(x)=g_2(x)$, $g_1(x)$ e $g_2(x)$ as funções descriminantes e $x= [x1,x2]^t$ .**\n",
        "\n",
        "$g_i(x), i=1,2$ (funções discriminantes)\n",
        "\n",
        "$g_i(x) = \\frac{-1}{2}(x − μ_i)^tΣ^{-1}_i (x − μ_i) \\frac{-1}{2}ln |Σ_i|$, i=1,2\n",
        "\n",
        "$μ$: Vetor Média\n",
        "\n",
        "$Σ$\n",
        "\n",
        "$Σ^{-1}$\n",
        ": Inversa da Matriz de Covariância\n",
        "\n",
        "$|Σ_i|$: Determinante da Matriz de Covariância "
      ],
      "metadata": {
        "id": "B2jwBig9Mx_c"
      }
    },
    {
      "cell_type": "code",
      "source": [
        "def g_i(x_1, x_2, avg, cov):\n",
        "  v = ([x_1, x_2])\n",
        "  x = np.transpose(v)\n",
        "\n",
        "  p1 = (-1/2)\n",
        "  p2 = np.transpose(x-avg)\n",
        "  mult1 = np.dot(p1,p2)\n",
        "  p3 = np.linalg.inv(cov)\n",
        "  mult2 = np.dot(mult1,p3)\n",
        "  p4 = (x-avg)\n",
        "  mult3 = np.dot(mult2,p4)\n",
        "  p5 = np.log(np.linalg.det(cov))\n",
        "  mult4 = np.dot(p1,p5)\n",
        "  g = mult3 + mult4\n",
        "  return g"
      ],
      "metadata": {
        "id": "gfo1pvfNM-1-"
      },
      "execution_count": 160,
      "outputs": []
    },
    {
      "cell_type": "markdown",
      "source": [
        "**c) Classifique os pontos (padrões) $(1, 2)^t$ , $(5, 3)^t$ , $(0, 0)^t$ , $(1, 0)^t$ , decidindo pela classe com maior valor das funções discriminantes, isto e, $max\\{g_i(x)\\}$ ou faça pela região definida pela superfície de separação (função descriminante)**"
      ],
      "metadata": {
        "id": "7YOkm3YhWAKJ"
      }
    },
    {
      "cell_type": "markdown",
      "source": [
        "#### $(1, 2)^t$"
      ],
      "metadata": {
        "id": "JPWn-Jj6iPlk"
      }
    },
    {
      "cell_type": "code",
      "source": [
        "g_1 = g_i(1, 2, average_w1, cov_w1)\n",
        "g_1"
      ],
      "metadata": {
        "colab": {
          "base_uri": "https://localhost:8080/"
        },
        "id": "xFSndJUuV_e_",
        "outputId": "9076b6a1-f1a3-4925-a0be-416e96d7bd8f"
      },
      "execution_count": 161,
      "outputs": [
        {
          "output_type": "execute_result",
          "data": {
            "text/plain": [
              "-3.0031877798383544"
            ]
          },
          "metadata": {},
          "execution_count": 161
        }
      ]
    },
    {
      "cell_type": "code",
      "source": [
        "g_2 = g_i(1, 2, average_w2, cov_w2)\n",
        "g_2"
      ],
      "metadata": {
        "colab": {
          "base_uri": "https://localhost:8080/"
        },
        "id": "D_LrzR-1Y8pC",
        "outputId": "e1fb45cc-4cb5-4bf2-fad6-4648e751cc2e"
      },
      "execution_count": 162,
      "outputs": [
        {
          "output_type": "execute_result",
          "data": {
            "text/plain": [
              "-3.2719322440216274"
            ]
          },
          "metadata": {},
          "execution_count": 162
        }
      ]
    },
    {
      "cell_type": "markdown",
      "source": [
        "Classificação: classe w1"
      ],
      "metadata": {
        "id": "UCJMEnINiedw"
      }
    },
    {
      "cell_type": "markdown",
      "source": [
        "#### $(5, 3)^t$"
      ],
      "metadata": {
        "id": "jtv1PpTRVQS6"
      }
    },
    {
      "cell_type": "code",
      "source": [
        "g_1 = g_i(5, 3, average_w1, cov_w1)\n",
        "g_1"
      ],
      "metadata": {
        "colab": {
          "base_uri": "https://localhost:8080/"
        },
        "id": "L-uojbTvVNSt",
        "outputId": "bda9bb6c-12b8-4fb4-b59f-b6014c46a1c5"
      },
      "execution_count": 163,
      "outputs": [
        {
          "output_type": "execute_result",
          "data": {
            "text/plain": [
              "-3.6985926407709906"
            ]
          },
          "metadata": {},
          "execution_count": 163
        }
      ]
    },
    {
      "cell_type": "code",
      "source": [
        "g_2 = g_i(5, 3, average_w2, cov_w2)\n",
        "g_2"
      ],
      "metadata": {
        "colab": {
          "base_uri": "https://localhost:8080/"
        },
        "id": "UAYvQ5Dgio73",
        "outputId": "9aa2eba8-9e73-4f30-9513-dd67d9abe724"
      },
      "execution_count": 164,
      "outputs": [
        {
          "output_type": "execute_result",
          "data": {
            "text/plain": [
              "-3.638251400095455"
            ]
          },
          "metadata": {},
          "execution_count": 164
        }
      ]
    },
    {
      "cell_type": "markdown",
      "source": [
        "Classificação: classe w2"
      ],
      "metadata": {
        "id": "lFI11l9Uiuku"
      }
    },
    {
      "cell_type": "markdown",
      "source": [
        "#### $(0, 0)^t$"
      ],
      "metadata": {
        "id": "qcPEXIWsi8-7"
      }
    },
    {
      "cell_type": "code",
      "source": [
        "g_1 = g_i(0, 0, average_w1, cov_w1)\n",
        "g_1"
      ],
      "metadata": {
        "colab": {
          "base_uri": "https://localhost:8080/"
        },
        "id": "S0FTR9VLiryA",
        "outputId": "7c56fedb-c442-49b9-aa2b-56ad908fb478"
      },
      "execution_count": 165,
      "outputs": [
        {
          "output_type": "execute_result",
          "data": {
            "text/plain": [
              "-2.624633370211142"
            ]
          },
          "metadata": {},
          "execution_count": 165
        }
      ]
    },
    {
      "cell_type": "code",
      "source": [
        "g_2 = g_i(0, 0, average_w2, cov_w2)\n",
        "g_2"
      ],
      "metadata": {
        "colab": {
          "base_uri": "https://localhost:8080/"
        },
        "id": "PudEZDUNjBy3",
        "outputId": "3058b693-e1ea-420f-a341-f2994786766f"
      },
      "execution_count": 166,
      "outputs": [
        {
          "output_type": "execute_result",
          "data": {
            "text/plain": [
              "-2.9991690635027646"
            ]
          },
          "metadata": {},
          "execution_count": 166
        }
      ]
    },
    {
      "cell_type": "markdown",
      "source": [
        "Classificação: classe w1"
      ],
      "metadata": {
        "id": "zZfW-SSojMWa"
      }
    },
    {
      "cell_type": "markdown",
      "source": [
        "#### $(1, 0)^t$"
      ],
      "metadata": {
        "id": "eswZXrGCjVWN"
      }
    },
    {
      "cell_type": "code",
      "source": [
        "g_1 = g_i(1, 0, average_w1, cov_w1)\n",
        "g_1"
      ],
      "metadata": {
        "colab": {
          "base_uri": "https://localhost:8080/"
        },
        "id": "2EfcJBQkjEuX",
        "outputId": "7b1680d8-db25-4538-e479-f311bb69b878"
      },
      "execution_count": 167,
      "outputs": [
        {
          "output_type": "execute_result",
          "data": {
            "text/plain": [
              "-2.6265299730231337"
            ]
          },
          "metadata": {},
          "execution_count": 167
        }
      ]
    },
    {
      "cell_type": "code",
      "source": [
        "g_2 = g_i(1, 0, average_w2, cov_w2)\n",
        "g_2"
      ],
      "metadata": {
        "colab": {
          "base_uri": "https://localhost:8080/"
        },
        "id": "79eRl-V9jYYM",
        "outputId": "3faf6315-95cf-46bd-901e-e4262704ec5f"
      },
      "execution_count": 168,
      "outputs": [
        {
          "output_type": "execute_result",
          "data": {
            "text/plain": [
              "-3.0150741196352677"
            ]
          },
          "metadata": {},
          "execution_count": 168
        }
      ]
    },
    {
      "cell_type": "markdown",
      "source": [
        "Classificação: classe w1"
      ],
      "metadata": {
        "id": "xjd_BAo3jdSI"
      }
    }
  ]
}