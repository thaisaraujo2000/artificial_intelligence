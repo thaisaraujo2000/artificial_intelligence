{
  "nbformat": 4,
  "nbformat_minor": 0,
  "metadata": {
    "colab": {
      "provenance": []
    },
    "kernelspec": {
      "name": "python3",
      "display_name": "Python 3"
    },
    "language_info": {
      "name": "python"
    }
  },
  "cells": [
    {
      "cell_type": "markdown",
      "source": [
        "### Questão 4.2"
      ],
      "metadata": {
        "id": "eb3RWiyk1uq2"
      }
    },
    {
      "cell_type": "markdown",
      "source": [
        "**a) Estime o vetor média e a matriz de covariância de cada distribuição gaussiana multivariada. Para estimativa dos vetores média e das matrizes utilize os estimadores de máxima verossimilhança dados abaixo.**"
      ],
      "metadata": {
        "id": "MqbRlF0Z2OCB"
      }
    },
    {
      "cell_type": "markdown",
      "source": [
        "#### Importando biblioteca"
      ],
      "metadata": {
        "id": "pK0vwbO24qKh"
      }
    },
    {
      "cell_type": "code",
      "execution_count": 56,
      "metadata": {
        "id": "a8ogWzq80qPK"
      },
      "outputs": [],
      "source": [
        "import numpy as np"
      ]
    },
    {
      "cell_type": "markdown",
      "source": [
        "#### Listas"
      ],
      "metadata": {
        "id": "jaPnqcsU4wBI"
      }
    },
    {
      "cell_type": "code",
      "source": [
        "# classe w1\n",
        "x1_w1 = [-5.01, -5.43, 1.08, 0.86, -2.67, 4.94, -2.51, -2.25, 5.56, 1.03]\n",
        "x2_w1 = [-8.12, -3.48, -5.52, -3.78, 0.63, 3.29, 2.09, -2.13, 2.86, -3.33]"
      ],
      "metadata": {
        "id": "vw6VRtoq4Xpd"
      },
      "execution_count": 57,
      "outputs": []
    },
    {
      "cell_type": "code",
      "source": [
        "# classe w2\n",
        "x1_w2 = [-0.91, 1.30, -7.75, -5.47, 6.14, 3.6, 5.37, 7.18, -7.39, -7.5]\n",
        "x2_w2 = [-0.18, -2.06, -4.54, 0.5, 5.72, 1.26, -4.63, 1.46, 1.17, -6.32]"
      ],
      "metadata": {
        "id": "0TtFcU1c51AW"
      },
      "execution_count": 58,
      "outputs": []
    },
    {
      "cell_type": "markdown",
      "source": [
        "#### Vetor média\n",
        "$\\mu_{w1} = \n",
        "\\begin{bmatrix}\n",
        "\\mu_{x1\\_w1}\\\\ \n",
        "\\mu_{x2\\_w1}\n",
        "\\end{bmatrix}$\n",
        "\n",
        "$\\mu_{w2} = \n",
        "\\begin{bmatrix}\n",
        "\\mu_{x1\\_w1}\\\\ \n",
        "\\mu_{_x2\\_w2}\n",
        "\\end{bmatrix}$"
      ],
      "metadata": {
        "id": "Aw6d4OGy4MMr"
      }
    },
    {
      "cell_type": "markdown",
      "source": [
        "##### Classe w1"
      ],
      "metadata": {
        "id": "JU9o9EkK7d67"
      }
    },
    {
      "cell_type": "code",
      "source": [
        "average_x1w1 = np.mean(x1_w1)\n",
        "average_x1w1"
      ],
      "metadata": {
        "colab": {
          "base_uri": "https://localhost:8080/"
        },
        "id": "EVYP6GSh6b38",
        "outputId": "4c9a0305-d0f5-4ce5-bca0-28e04023d473"
      },
      "execution_count": 59,
      "outputs": [
        {
          "output_type": "execute_result",
          "data": {
            "text/plain": [
              "-0.43999999999999984"
            ]
          },
          "metadata": {},
          "execution_count": 59
        }
      ]
    },
    {
      "cell_type": "code",
      "source": [
        "average_x2w1 = np.mean(x2_w1)\n",
        "average_x2w1"
      ],
      "metadata": {
        "colab": {
          "base_uri": "https://localhost:8080/"
        },
        "id": "2UbVOvRn6Sam",
        "outputId": "4f949b93-05d2-4e32-d2b8-ccb68c4da608"
      },
      "execution_count": 60,
      "outputs": [
        {
          "output_type": "execute_result",
          "data": {
            "text/plain": [
              "-1.749"
            ]
          },
          "metadata": {},
          "execution_count": 60
        }
      ]
    },
    {
      "cell_type": "code",
      "source": [
        "average_w1 = [average_x1w1, average_x2w1]\n",
        "average_w1"
      ],
      "metadata": {
        "colab": {
          "base_uri": "https://localhost:8080/"
        },
        "id": "GKAjIPfX7zBW",
        "outputId": "78fddae6-14f0-4a91-a4be-daec7e399557"
      },
      "execution_count": 61,
      "outputs": [
        {
          "output_type": "execute_result",
          "data": {
            "text/plain": [
              "[-0.43999999999999984, -1.749]"
            ]
          },
          "metadata": {},
          "execution_count": 61
        }
      ]
    },
    {
      "cell_type": "markdown",
      "source": [
        "##### Classe w2"
      ],
      "metadata": {
        "id": "K2Say8qw7nSZ"
      }
    },
    {
      "cell_type": "code",
      "source": [
        "average_x1w2 = np.mean(x1_w2)\n",
        "average_x1w2"
      ],
      "metadata": {
        "colab": {
          "base_uri": "https://localhost:8080/"
        },
        "id": "Pm8JeVWz7XCP",
        "outputId": "79cf40a6-d510-48a0-8e36-033f29c1eb22"
      },
      "execution_count": 62,
      "outputs": [
        {
          "output_type": "execute_result",
          "data": {
            "text/plain": [
              "-0.5429999999999999"
            ]
          },
          "metadata": {},
          "execution_count": 62
        }
      ]
    },
    {
      "cell_type": "code",
      "source": [
        "average_x2w2 = np.mean(x2_w2)\n",
        "average_x2w2"
      ],
      "metadata": {
        "colab": {
          "base_uri": "https://localhost:8080/"
        },
        "id": "lFyWYwyH7vcu",
        "outputId": "bad6286e-ae82-4930-bfbd-b7eb95a33cd4"
      },
      "execution_count": 63,
      "outputs": [
        {
          "output_type": "execute_result",
          "data": {
            "text/plain": [
              "-0.7620000000000001"
            ]
          },
          "metadata": {},
          "execution_count": 63
        }
      ]
    },
    {
      "cell_type": "code",
      "source": [
        "average_w2 = [average_x1w2, average_x2w2]\n",
        "average_w2"
      ],
      "metadata": {
        "colab": {
          "base_uri": "https://localhost:8080/"
        },
        "id": "RO1YWNOm8KOj",
        "outputId": "f14be58a-a41a-4a53-c1a9-ba9fde094d1d"
      },
      "execution_count": 64,
      "outputs": [
        {
          "output_type": "execute_result",
          "data": {
            "text/plain": [
              "[-0.5429999999999999, -0.7620000000000001]"
            ]
          },
          "metadata": {},
          "execution_count": 64
        }
      ]
    },
    {
      "cell_type": "markdown",
      "source": [
        "#### Matriz de covariância\n",
        "$\\sigma_{w1} = \\begin{bmatrix}\n",
        "s_{11\\_w1} & s_{12\\_w1} \\\\\n",
        "s_{21\\_w1} & s_{22\\_w1}\n",
        "\\end{bmatrix}$ \n",
        "\n",
        "$\\sigma_{w2} = \\begin{bmatrix}\n",
        "s_{11\\_w2} & s_{12\\_w2} \\\\\n",
        "s_{21\\_w2} & s_{22\\_w2}\n",
        "\\end{bmatrix}$ "
      ],
      "metadata": {
        "id": "mPXBwnzI9lDt"
      }
    },
    {
      "cell_type": "markdown",
      "source": [
        "##### Classe w1"
      ],
      "metadata": {
        "id": "taa2oLsCDF2Z"
      }
    },
    {
      "cell_type": "code",
      "source": [
        "cov_w1 = np.cov([x1_w1,x2_w1])"
      ],
      "metadata": {
        "id": "fTdyEBGxC-LK"
      },
      "execution_count": 65,
      "outputs": []
    },
    {
      "cell_type": "code",
      "source": [
        "cov_w1"
      ],
      "metadata": {
        "colab": {
          "base_uri": "https://localhost:8080/"
        },
        "id": "xQoNptogLuSz",
        "outputId": "597fe9a1-85d9-4461-c1d7-445de83299e1"
      },
      "execution_count": 66,
      "outputs": [
        {
          "output_type": "execute_result",
          "data": {
            "text/plain": [
              "array([[14.38051111,  7.69537778],\n",
              "       [ 7.69537778, 14.62312111]])"
            ]
          },
          "metadata": {},
          "execution_count": 66
        }
      ]
    },
    {
      "cell_type": "markdown",
      "source": [
        "##### Classe w2"
      ],
      "metadata": {
        "id": "3O4aFwI8MAUJ"
      }
    },
    {
      "cell_type": "code",
      "source": [
        "cov_w2 = np.cov([x1_w2,x2_w2])"
      ],
      "metadata": {
        "id": "NyuikL-xLyiN"
      },
      "execution_count": 67,
      "outputs": []
    },
    {
      "cell_type": "code",
      "source": [
        "cov_w2"
      ],
      "metadata": {
        "colab": {
          "base_uri": "https://localhost:8080/"
        },
        "id": "_dp2aqPXMGTT",
        "outputId": "60668622-9aaa-4e18-fcfd-05d829d343b4"
      },
      "execution_count": 68,
      "outputs": [
        {
          "output_type": "execute_result",
          "data": {
            "text/plain": [
              "array([[36.82933444,  9.98092667],\n",
              "       [ 9.98092667, 13.16855111]])"
            ]
          },
          "metadata": {},
          "execution_count": 68
        }
      ]
    },
    {
      "cell_type": "markdown",
      "source": [
        "**b) Determine a superfície de decisão fazendo $g_1(x)=g_2(x)$, $g_1(x)$ e $g_2(x)$ as funções descriminantes e $x= [x1,x2]^t$ .**\n",
        "\n",
        "$g_i(x), i=1,2$ (funções discriminantes)\n",
        "\n",
        "$g_i(x) = \\frac{-1}{2}(x − μ_i)^tΣ^{-1}_i (x − μ_i) \\frac{-1}{2}ln |Σ_i|$, i=1,2\n",
        "\n",
        "$μ$: Vetor Média\n",
        "\n",
        "$Σ$\n",
        "\n",
        "$Σ^{-1}$\n",
        ": Inversa da Matriz de Covariância\n",
        "\n",
        "$|Σ_i|$: Determinante da Matriz de Covariância "
      ],
      "metadata": {
        "id": "B2jwBig9Mx_c"
      }
    },
    {
      "cell_type": "code",
      "source": [
        "def g_i(x_1, x_2, avg, cov):\n",
        "  v = ([x_1, x_2])\n",
        "  x = np.transpose(v)\n",
        "\n",
        "  p1 = (-1/2)\n",
        "  p2 = np.transpose(x-avg)\n",
        "  mult1 = np.dot(p1,p2)\n",
        "  p3 = np.linalg.inv(cov)\n",
        "  mult2 = np.dot(mult1,p3)\n",
        "  p4 = (x-avg)\n",
        "  mult3 = np.dot(mult2,p4)\n",
        "  p5 = np.log(np.linalg.det(cov))\n",
        "  mult4 = np.dot(p1,p5)\n",
        "  g = mult3 + mult4\n",
        "  return g"
      ],
      "metadata": {
        "id": "gfo1pvfNM-1-"
      },
      "execution_count": 69,
      "outputs": []
    },
    {
      "cell_type": "code",
      "source": [
        "def classification(g1, g2):\n",
        "  if (g1 - g2) > 0:\n",
        "    print('Classificação: classe w1')\n",
        "  else:\n",
        "    print('Classificação: classe w2')"
      ],
      "metadata": {
        "id": "RlHr8bLqtWwH"
      },
      "execution_count": 80,
      "outputs": []
    },
    {
      "cell_type": "markdown",
      "source": [
        "**c) Classifique os pontos (padrões) $(1, 2)^t$ , $(5, 3)^t$ , $(0, 0)^t$ , $(1, 0)^t$ , decidindo pela classe com maior valor das funções discriminantes, isto e, $max\\{g_i(x)\\}$ ou faça pela região definida pela superfície de separação (função descriminante)**"
      ],
      "metadata": {
        "id": "7YOkm3YhWAKJ"
      }
    },
    {
      "cell_type": "markdown",
      "source": [
        "#### $(1, 2)^t$"
      ],
      "metadata": {
        "id": "JPWn-Jj6iPlk"
      }
    },
    {
      "cell_type": "code",
      "source": [
        "g_1 = g_i(1, 2, average_w1, cov_w1)\n",
        "g_1"
      ],
      "metadata": {
        "colab": {
          "base_uri": "https://localhost:8080/"
        },
        "id": "xFSndJUuV_e_",
        "outputId": "4392e818-d815-472d-a34e-03edc6afb1b0"
      },
      "execution_count": 93,
      "outputs": [
        {
          "output_type": "execute_result",
          "data": {
            "text/plain": [
              "-3.0031877798383544"
            ]
          },
          "metadata": {},
          "execution_count": 93
        }
      ]
    },
    {
      "cell_type": "code",
      "source": [
        "g_2 = g_i(1, 2, average_w2, cov_w2)\n",
        "g_2"
      ],
      "metadata": {
        "colab": {
          "base_uri": "https://localhost:8080/"
        },
        "id": "D_LrzR-1Y8pC",
        "outputId": "d9797108-413c-4d3f-c135-1952c9b53902"
      },
      "execution_count": 94,
      "outputs": [
        {
          "output_type": "execute_result",
          "data": {
            "text/plain": [
              "-3.2719322440216274"
            ]
          },
          "metadata": {},
          "execution_count": 94
        }
      ]
    },
    {
      "cell_type": "code",
      "source": [
        "classification(g_1,g_2)"
      ],
      "metadata": {
        "colab": {
          "base_uri": "https://localhost:8080/"
        },
        "id": "kbJIUlFMuKks",
        "outputId": "7b592530-fe71-4716-efca-ed1400c5e31c"
      },
      "execution_count": 95,
      "outputs": [
        {
          "output_type": "stream",
          "name": "stdout",
          "text": [
            "Classificação: classe w1\n"
          ]
        }
      ]
    },
    {
      "cell_type": "markdown",
      "source": [
        "#### $(5, 3)^t$"
      ],
      "metadata": {
        "id": "jtv1PpTRVQS6"
      }
    },
    {
      "cell_type": "code",
      "source": [
        "g_1 = g_i(5, 3, average_w1, cov_w1)\n",
        "g_1"
      ],
      "metadata": {
        "colab": {
          "base_uri": "https://localhost:8080/"
        },
        "id": "L-uojbTvVNSt",
        "outputId": "d51286ea-3114-4c6b-a553-b31e72d8388d"
      },
      "execution_count": 96,
      "outputs": [
        {
          "output_type": "execute_result",
          "data": {
            "text/plain": [
              "-3.6985926407709906"
            ]
          },
          "metadata": {},
          "execution_count": 96
        }
      ]
    },
    {
      "cell_type": "code",
      "source": [
        "g_2 = g_i(5, 3, average_w2, cov_w2)\n",
        "g_2"
      ],
      "metadata": {
        "colab": {
          "base_uri": "https://localhost:8080/"
        },
        "id": "UAYvQ5Dgio73",
        "outputId": "be07a5e6-db27-48cc-9da6-08c960489b8a"
      },
      "execution_count": 97,
      "outputs": [
        {
          "output_type": "execute_result",
          "data": {
            "text/plain": [
              "-3.638251400095455"
            ]
          },
          "metadata": {},
          "execution_count": 97
        }
      ]
    },
    {
      "cell_type": "code",
      "source": [
        "classification(g_1,g_2)"
      ],
      "metadata": {
        "colab": {
          "base_uri": "https://localhost:8080/"
        },
        "id": "tNWASoM6uTE_",
        "outputId": "e02df10f-f1d6-4fc7-fc2f-d2dd2d9fd80b"
      },
      "execution_count": 98,
      "outputs": [
        {
          "output_type": "stream",
          "name": "stdout",
          "text": [
            "Classificação: classe w2\n"
          ]
        }
      ]
    },
    {
      "cell_type": "markdown",
      "source": [
        "#### $(0, 0)^t$"
      ],
      "metadata": {
        "id": "qcPEXIWsi8-7"
      }
    },
    {
      "cell_type": "code",
      "source": [
        "g_1 = g_i(0, 0, average_w1, cov_w1)\n",
        "g_1"
      ],
      "metadata": {
        "colab": {
          "base_uri": "https://localhost:8080/"
        },
        "id": "S0FTR9VLiryA",
        "outputId": "497754ed-ca0c-4121-e8da-f62ea36d8e5b"
      },
      "execution_count": 99,
      "outputs": [
        {
          "output_type": "execute_result",
          "data": {
            "text/plain": [
              "-2.624633370211142"
            ]
          },
          "metadata": {},
          "execution_count": 99
        }
      ]
    },
    {
      "cell_type": "code",
      "source": [
        "g_2 = g_i(0, 0, average_w2, cov_w2)\n",
        "g_2"
      ],
      "metadata": {
        "colab": {
          "base_uri": "https://localhost:8080/"
        },
        "id": "PudEZDUNjBy3",
        "outputId": "29624c0b-46d5-4b08-b3b1-5f5939ca4f46"
      },
      "execution_count": 100,
      "outputs": [
        {
          "output_type": "execute_result",
          "data": {
            "text/plain": [
              "-2.9991690635027646"
            ]
          },
          "metadata": {},
          "execution_count": 100
        }
      ]
    },
    {
      "cell_type": "code",
      "source": [
        "classification(g_1,g_2)"
      ],
      "metadata": {
        "colab": {
          "base_uri": "https://localhost:8080/"
        },
        "id": "z4VIcxvIvQjv",
        "outputId": "33ca2164-4191-461c-9907-5f638861660b"
      },
      "execution_count": 101,
      "outputs": [
        {
          "output_type": "stream",
          "name": "stdout",
          "text": [
            "Classificação: classe w1\n"
          ]
        }
      ]
    },
    {
      "cell_type": "markdown",
      "source": [
        "#### $(1, 0)^t$"
      ],
      "metadata": {
        "id": "eswZXrGCjVWN"
      }
    },
    {
      "cell_type": "code",
      "source": [
        "g_1 = g_i(1, 0, average_w1, cov_w1)\n",
        "g_1"
      ],
      "metadata": {
        "colab": {
          "base_uri": "https://localhost:8080/"
        },
        "id": "2EfcJBQkjEuX",
        "outputId": "5b5cc3ce-bc24-42c9-ed41-30ab3f1c151b"
      },
      "execution_count": 102,
      "outputs": [
        {
          "output_type": "execute_result",
          "data": {
            "text/plain": [
              "-2.6265299730231337"
            ]
          },
          "metadata": {},
          "execution_count": 102
        }
      ]
    },
    {
      "cell_type": "code",
      "source": [
        "g_2 = g_i(1, 0, average_w2, cov_w2)\n",
        "g_2"
      ],
      "metadata": {
        "colab": {
          "base_uri": "https://localhost:8080/"
        },
        "id": "79eRl-V9jYYM",
        "outputId": "4743c9c6-781b-4457-c135-af231897d3cd"
      },
      "execution_count": 103,
      "outputs": [
        {
          "output_type": "execute_result",
          "data": {
            "text/plain": [
              "-3.0150741196352677"
            ]
          },
          "metadata": {},
          "execution_count": 103
        }
      ]
    },
    {
      "cell_type": "code",
      "source": [
        "classification(g_1,g_2)"
      ],
      "metadata": {
        "colab": {
          "base_uri": "https://localhost:8080/"
        },
        "id": "AnfAREk9vTQe",
        "outputId": "1857c7a0-dcbf-402a-b94f-08bd9342b178"
      },
      "execution_count": 104,
      "outputs": [
        {
          "output_type": "stream",
          "name": "stdout",
          "text": [
            "Classificação: classe w1\n"
          ]
        }
      ]
    }
  ]
}